{
 "cells": [
  {
   "cell_type": "code",
   "execution_count": 2,
   "id": "24294b22-fcd8-4ee9-8341-c0455000d5a0",
   "metadata": {},
   "outputs": [],
   "source": [
    "d1={'name':'nikita','number':'1211','mail':'n@gmail.com'}"
   ]
  },
  {
   "cell_type": "code",
   "execution_count": 3,
   "id": "b40a72e1-4453-47c6-9326-a88309274bd3",
   "metadata": {},
   "outputs": [
    {
     "data": {
      "text/plain": [
       "dict"
      ]
     },
     "execution_count": 3,
     "metadata": {},
     "output_type": "execute_result"
    }
   ],
   "source": [
    "type(d1)"
   ]
  },
  {
   "cell_type": "code",
   "execution_count": 4,
   "id": "c6aff018-e0dc-4859-bfe8-7f7ec34853b3",
   "metadata": {},
   "outputs": [
    {
     "data": {
      "text/plain": [
       "'nikita'"
      ]
     },
     "execution_count": 4,
     "metadata": {},
     "output_type": "execute_result"
    }
   ],
   "source": [
    "d1['name']"
   ]
  },
  {
   "cell_type": "code",
   "execution_count": 5,
   "id": "38324405-7c24-4e88-8f8c-31e471ab46b5",
   "metadata": {},
   "outputs": [
    {
     "data": {
      "text/plain": [
       "'n@gmail.com'"
      ]
     },
     "execution_count": 5,
     "metadata": {},
     "output_type": "execute_result"
    }
   ],
   "source": [
    "d1['mail']"
   ]
  },
  {
   "cell_type": "code",
   "execution_count": 11,
   "id": "e4593876-0983-4eb7-9a8d-ef637a196f22",
   "metadata": {},
   "outputs": [],
   "source": [
    "d2={'company':'IIPL','magazines':['RW','PL','GTR','IIP']}"
   ]
  },
  {
   "cell_type": "code",
   "execution_count": 12,
   "id": "5550ab6c-36e9-428c-937e-e5f0d1b35690",
   "metadata": {},
   "outputs": [
    {
     "data": {
      "text/plain": [
       "dict"
      ]
     },
     "execution_count": 12,
     "metadata": {},
     "output_type": "execute_result"
    }
   ],
   "source": [
    "type(d2)\n"
   ]
  },
  {
   "cell_type": "code",
   "execution_count": 13,
   "id": "29a415d2-4024-4e42-bdfa-64f44db31251",
   "metadata": {},
   "outputs": [
    {
     "data": {
      "text/plain": [
       "{'company': 'IIPL', 'magazines': ['RW', 'PL', 'GTR', 'IIP']}"
      ]
     },
     "execution_count": 13,
     "metadata": {},
     "output_type": "execute_result"
    }
   ],
   "source": [
    "d2"
   ]
  },
  {
   "cell_type": "code",
   "execution_count": 15,
   "id": "53a9da46-c5c7-44e2-ba9f-372a6d0f263a",
   "metadata": {},
   "outputs": [
    {
     "data": {
      "text/plain": [
       "'GTR'"
      ]
     },
     "execution_count": 15,
     "metadata": {},
     "output_type": "execute_result"
    }
   ],
   "source": [
    "d2['magazines'][2]\n"
   ]
  },
  {
   "cell_type": "code",
   "execution_count": 19,
   "id": "ea37c095-715e-4e9d-930e-eb148494262e",
   "metadata": {},
   "outputs": [],
   "source": [
    "d3={'name':'niki','date':'28,14,12','class_days':['wed','mon','tues']}"
   ]
  },
  {
   "cell_type": "code",
   "execution_count": 20,
   "id": "f4f843c6-86f7-4354-94d3-a87bbdb902f2",
   "metadata": {},
   "outputs": [
    {
     "data": {
      "text/plain": [
       "dict"
      ]
     },
     "execution_count": 20,
     "metadata": {},
     "output_type": "execute_result"
    }
   ],
   "source": [
    "type(d3)"
   ]
  },
  {
   "cell_type": "code",
   "execution_count": 21,
   "id": "bf6184f3-992f-480d-86a8-3783ef2d6fd3",
   "metadata": {},
   "outputs": [
    {
     "data": {
      "text/plain": [
       "{'name': 'niki', 'date': '28,14,12', 'class_days': ['wed', 'mon', 'tues']}"
      ]
     },
     "execution_count": 21,
     "metadata": {},
     "output_type": "execute_result"
    }
   ],
   "source": [
    "d3"
   ]
  },
  {
   "cell_type": "code",
   "execution_count": 22,
   "id": "a0d99a69-ca7d-4eca-88be-446d5eda187c",
   "metadata": {},
   "outputs": [],
   "source": [
    "d4={'number':[1,11,12,15,2020],'assignment':(1,2,3,4,5,6),'class_time':{'datasci':8,'micro':9,'macro':10}}"
   ]
  },
  {
   "cell_type": "code",
   "execution_count": 26,
   "id": "376b3c19-09d2-4803-bd9c-2d2b87c2ad5c",
   "metadata": {},
   "outputs": [
    {
     "data": {
      "text/plain": [
       "dict"
      ]
     },
     "execution_count": 26,
     "metadata": {},
     "output_type": "execute_result"
    }
   ],
   "source": [
    "type(d4)"
   ]
  },
  {
   "cell_type": "code",
   "execution_count": 24,
   "id": "828253b1-21a8-42f5-8753-7344c3dd0d8f",
   "metadata": {},
   "outputs": [
    {
     "data": {
      "text/plain": [
       "{'number': [1, 11, 12, 15, 2020],\n",
       " 'assignment': (1, 2, 3, 4, 5, 6),\n",
       " 'class_time': {'datasci': 8, 'micro': 9, 'macro': 10}}"
      ]
     },
     "execution_count": 24,
     "metadata": {},
     "output_type": "execute_result"
    }
   ],
   "source": [
    "d4"
   ]
  },
  {
   "cell_type": "code",
   "execution_count": 25,
   "id": "4815fcbf-f421-480e-8557-51a5b4602f3f",
   "metadata": {},
   "outputs": [
    {
     "data": {
      "text/plain": [
       "8"
      ]
     },
     "execution_count": 25,
     "metadata": {},
     "output_type": "execute_result"
    }
   ],
   "source": [
    "d4['class_time']['datasci']"
   ]
  },
  {
   "cell_type": "code",
   "execution_count": 32,
   "id": "b44d84cd-25d3-4b03-b1d6-dfdb12374be4",
   "metadata": {},
   "outputs": [
    {
     "data": {
      "text/plain": [
       "{'mentor': ('sudh', 'anurag', 'chris')}"
      ]
     },
     "execution_count": 32,
     "metadata": {},
     "output_type": "execute_result"
    }
   ],
   "source": [
    "d4"
   ]
  },
  {
   "cell_type": "code",
   "execution_count": 33,
   "id": "13be1481-69db-4e40-9244-6eeab5d34e12",
   "metadata": {},
   "outputs": [],
   "source": [
    "d5={'number':[1,11,12,15,2020],'assignment':(1,2,3,4,5,6),'class_time':{'datasci':8,'micro':9,'macro':10}}"
   ]
  },
  {
   "cell_type": "code",
   "execution_count": 34,
   "id": "11339f76-a7b0-4b94-9cb9-2fd134ef14e2",
   "metadata": {},
   "outputs": [],
   "source": [
    "d5['mentor']=['sudh','anshu','jatin']"
   ]
  },
  {
   "cell_type": "code",
   "execution_count": 35,
   "id": "97fe6cfa-6846-4200-b1a3-f5a3fbf452be",
   "metadata": {},
   "outputs": [
    {
     "data": {
      "text/plain": [
       "{'number': [1, 11, 12, 15, 2020],\n",
       " 'assignment': (1, 2, 3, 4, 5, 6),\n",
       " 'class_time': {'datasci': 8, 'micro': 9, 'macro': 10},\n",
       " 'mentor': ['sudh', 'anshu', 'jatin']}"
      ]
     },
     "execution_count": 35,
     "metadata": {},
     "output_type": "execute_result"
    }
   ],
   "source": [
    "d5"
   ]
  },
  {
   "cell_type": "code",
   "execution_count": 36,
   "id": "cbd8d5f4-d1bc-41e8-a2be-b9e0ca25e36e",
   "metadata": {},
   "outputs": [],
   "source": [
    "del d5['number']"
   ]
  },
  {
   "cell_type": "code",
   "execution_count": 37,
   "id": "16ebb30f-ade3-413c-9690-ed865bb3108e",
   "metadata": {},
   "outputs": [
    {
     "data": {
      "text/plain": [
       "{'assignment': (1, 2, 3, 4, 5, 6),\n",
       " 'class_time': {'datasci': 8, 'micro': 9, 'macro': 10},\n",
       " 'mentor': ['sudh', 'anshu', 'jatin']}"
      ]
     },
     "execution_count": 37,
     "metadata": {},
     "output_type": "execute_result"
    }
   ],
   "source": [
    "d5"
   ]
  },
  {
   "cell_type": "code",
   "execution_count": 1,
   "id": "d3405adc-cdfd-46be-a9ca-0a5d29efa1c3",
   "metadata": {},
   "outputs": [
    {
     "name": "stdin",
     "output_type": "stream",
     "text": [
      "enter your marks 65\n"
     ]
    },
    {
     "name": "stdout",
     "output_type": "stream",
     "text": [
      "student in A1 batch\n"
     ]
    }
   ],
   "source": [
    "marks=int(input(\"enter your marks\"))\n",
    "if marks >= 80:\n",
    "   print(\"student in Ao batch\")\n",
    "elif marks >= 60 <80:\n",
    "    print(\"student in A1 batch\")\n",
    "elif marks >= 40 <60:\n",
    "    print(\"student in A2 batch\")\n",
    "else :\n",
    "    print(\"student in A3 batch\")"
   ]
  },
  {
   "cell_type": "code",
   "execution_count": 3,
   "id": "2e608b5a-c7bc-4561-880e-2fd4601b5189",
   "metadata": {},
   "outputs": [
    {
     "data": {
      "text/plain": [
       "int"
      ]
     },
     "execution_count": 3,
     "metadata": {},
     "output_type": "execute_result"
    }
   ],
   "source": [
    "type(marks)"
   ]
  },
  {
   "cell_type": "code",
   "execution_count": 5,
   "id": "8c58f36f-9d01-436b-a7e7-f72b8aae324b",
   "metadata": {},
   "outputs": [
    {
     "name": "stdin",
     "output_type": "stream",
     "text": [
      "enter your marks 45\n"
     ]
    },
    {
     "name": "stdout",
     "output_type": "stream",
     "text": [
      "student in A2 batch\n"
     ]
    }
   ],
   "source": [
    "marks=int(input(\"enter your marks\"))\n",
    "if marks >= 80:\n",
    "   print(\"student in Ao batch\")\n",
    "elif marks >= 60 <80:\n",
    "    print(\"student in A1 batch\")\n",
    "elif marks >= 40 <60:\n",
    "    print(\"student in A2 batch\")\n",
    "else :\n",
    "    print(\"student in A3 batch\")"
   ]
  },
  {
   "cell_type": "code",
   "execution_count": 2,
   "id": "321eea6d-c435-4670-a90e-c6d9fde46cd5",
   "metadata": {},
   "outputs": [
    {
     "name": "stdin",
     "output_type": "stream",
     "text": [
      "enter price here 500\n"
     ]
    },
    {
     "name": "stdout",
     "output_type": "stream",
     "text": [
      "will purchase\n"
     ]
    }
   ],
   "source": [
    "#example 2\n",
    "price= int(input(\"enter price here\"))\n",
    "if price >= 1000:\n",
    " print(\"i will not purchase\")\n",
    "else:\n",
    "    print(\"will purchase\")"
   ]
  },
  {
   "cell_type": "code",
   "execution_count": 3,
   "id": "a522b91d-34e3-4e57-ae11-fe14c6647456",
   "metadata": {},
   "outputs": [
    {
     "name": "stdin",
     "output_type": "stream",
     "text": [
      "enter price here 7000\n"
     ]
    },
    {
     "name": "stdout",
     "output_type": "stream",
     "text": [
      "i will not purchase\n"
     ]
    }
   ],
   "source": [
    "#example 3\n",
    "price= int(input(\"enter price here\"))\n",
    "if price >= 1000:\n",
    " print(\"i will not purchase\")"
   ]
  },
  {
   "cell_type": "code",
   "execution_count": 5,
   "id": "b04e031a-c283-42dc-9ac9-bf473c24a8c7",
   "metadata": {},
   "outputs": [
    {
     "name": "stdin",
     "output_type": "stream",
     "text": [
      "enter price here 200\n"
     ]
    }
   ],
   "source": [
    "#example 4 when you give no other option then output wont be anything\n",
    "price= int(input(\"enter price here\"))\n",
    "if price >= 1000:\n",
    " print(\"i will not purchase\")"
   ]
  },
  {
   "cell_type": "code",
   "execution_count": 6,
   "id": "60929bd9-7d60-427f-8073-520cb8a3a7b7",
   "metadata": {},
   "outputs": [
    {
     "name": "stdin",
     "output_type": "stream",
     "text": [
      "enter price here 6000\n"
     ]
    },
    {
     "name": "stdout",
     "output_type": "stream",
     "text": [
      "i will not purchase\n",
      "too expensive for me\n"
     ]
    }
   ],
   "source": [
    "#example 5: you can add if command inside an already existing if command\n",
    "price= int(input(\"enter price here\"))\n",
    "if price >= 1000:\n",
    "    print(\"i will not purchase\")\n",
    "    if price >= 5000:\n",
    "        print(\"too expensive for me\")\n",
    "        "
   ]
  },
  {
   "cell_type": "code",
   "execution_count": 19,
   "id": "5e85def0-0aae-4284-aa1e-4134551ed271",
   "metadata": {},
   "outputs": [
    {
     "name": "stdin",
     "output_type": "stream",
     "text": [
      "enter price here 500\n"
     ]
    }
   ],
   "source": [
    "#example 6: multiple ifs under same thing and elif is also there\n",
    "price = int(input(\"enter price here\"))\n",
    "if price >= 1000:\n",
    "    print(\"wont purchase\")\n",
    "    if price <2000:\n",
    "        print(\"its okay\")\n",
    "    if price >5000:\n",
    "            print (\"its too much now\")\n",
    "    elif price < 1000:\n",
    "        print (\"will purchase\")\n",
    "    else:\n",
    "        print (\"not interested\")\n",
    "        "
   ]
  },
  {
   "cell_type": "code",
   "execution_count": 20,
   "id": "96255179-9c9e-474c-81ab-1cef80f56ed8",
   "metadata": {},
   "outputs": [],
   "source": [
    "#Concept of loop\n",
    "#adding 1 in every element in the defined list\n",
    "l=[1,2,3,4,5,4,6,7]\n",
    "#i want to add 1 in all the elements here\n"
   ]
  },
  {
   "cell_type": "code",
   "execution_count": 21,
   "id": "49229861-8e33-40fb-998b-205230a41065",
   "metadata": {},
   "outputs": [
    {
     "data": {
      "text/plain": [
       "list"
      ]
     },
     "execution_count": 21,
     "metadata": {},
     "output_type": "execute_result"
    }
   ],
   "source": [
    "type (l)"
   ]
  },
  {
   "cell_type": "code",
   "execution_count": 25,
   "id": "f1535f83-ba7d-41ba-86da-c4af0b910c97",
   "metadata": {},
   "outputs": [
    {
     "name": "stdout",
     "output_type": "stream",
     "text": [
      "1\n",
      "2\n",
      "3\n",
      "4\n",
      "5\n",
      "4\n",
      "6\n",
      "7\n"
     ]
    }
   ],
   "source": [
    "#this command will show all the elements in the list using loop and will continue until all elements are not printed\n",
    "\n",
    "for i in l:\n",
    "    print(i)"
   ]
  },
  {
   "cell_type": "code",
   "execution_count": 30,
   "id": "3d8adb36-5069-4701-b5c4-a44bc4a7e282",
   "metadata": {},
   "outputs": [
    {
     "name": "stdout",
     "output_type": "stream",
     "text": [
      "2\n",
      "3\n",
      "4\n",
      "5\n",
      "6\n",
      "5\n",
      "7\n",
      "8\n"
     ]
    },
    {
     "data": {
      "text/plain": [
       "[2, 3, 4, 5, 6, 5, 7, 8]"
      ]
     },
     "execution_count": 30,
     "metadata": {},
     "output_type": "execute_result"
    }
   ],
   "source": [
    "#create blank list and then append in that list with +1 thing and then read that list in last command\n",
    "l1= []\n",
    "for i in l:\n",
    "    print(i+1)\n",
    "    l1.append(i+1)\n",
    "l1"
   ]
  },
  {
   "cell_type": "code",
   "execution_count": 31,
   "id": "9158f31b-77c4-44ae-a554-f458aaf49a35",
   "metadata": {},
   "outputs": [
    {
     "data": {
      "text/plain": [
       "[1, 2, 3, 4, 5, 4, 6, 7]"
      ]
     },
     "execution_count": 31,
     "metadata": {},
     "output_type": "execute_result"
    }
   ],
   "source": [
    "l"
   ]
  },
  {
   "cell_type": "code",
   "execution_count": 32,
   "id": "4e8d560c-a895-4833-923c-89d2925dd45e",
   "metadata": {},
   "outputs": [
    {
     "data": {
      "text/plain": [
       "[2, 3, 4, 5, 6, 5, 7, 8]"
      ]
     },
     "execution_count": 32,
     "metadata": {},
     "output_type": "execute_result"
    }
   ],
   "source": [
    "l1"
   ]
  },
  {
   "cell_type": "code",
   "execution_count": 36,
   "id": "f51e59b5-bd88-47dc-81aa-c0ee95fc75b0",
   "metadata": {},
   "outputs": [
    {
     "name": "stdout",
     "output_type": "stream",
     "text": [
      "12\n",
      "13\n",
      "16\n",
      "21\n",
      "31\n"
     ]
    },
    {
     "data": {
      "text/plain": [
       "[12, 13, 16, 21, 31]"
      ]
     },
     "execution_count": 36,
     "metadata": {},
     "output_type": "execute_result"
    }
   ],
   "source": [
    "#self example\n",
    "l2=[]\n",
    "l1=[11,12,15,20,30]\n",
    "for i in l1:\n",
    "    print(i+1)\n",
    "    l2.append(i+1)\n",
    "l2"
   ]
  },
  {
   "cell_type": "code",
   "execution_count": 40,
   "id": "7b7e180d-df27-4321-9f0a-a41c0864e022",
   "metadata": {},
   "outputs": [
    {
     "name": "stdout",
     "output_type": "stream",
     "text": [
      "niki\n",
      "dev\n",
      "pwskills\n",
      "course\n"
     ]
    },
    {
     "data": {
      "text/plain": [
       "['NIKI', 'DEV', 'PWSKILLS', 'COURSE']"
      ]
     },
     "execution_count": 40,
     "metadata": {},
     "output_type": "execute_result"
    }
   ],
   "source": [
    "#example to use loop to convert list items from small case to upper case\n",
    "l2= [ ]\n",
    "l1=[\"niki\",\"dev\",\"pwskills\",\"course\"]\n",
    "for i in l1:\n",
    "    print(i)\n",
    "    l2.append(i.upper())\n",
    "l2"
   ]
  },
  {
   "cell_type": "code",
   "execution_count": 52,
   "id": "e24604c5-510b-4529-a241-2c960ee19123",
   "metadata": {},
   "outputs": [],
   "source": [
    "# i want to divide list into list with string and numericals respectively from one main list l\n",
    "l= [1,2,3,4,5,\"niki\",\"dev\",\"abc\",1.234]\n",
    "#make two lists with different names\n",
    "l1_num=[]\n",
    "l2_str=[]\n",
    "for i in l:\n",
    "    if type(i) ==int or type(i)== float:\n",
    "        print: l1_num.append(i)\n",
    "    else: \n",
    "        print: l2_str.append(i)"
   ]
  },
  {
   "cell_type": "code",
   "execution_count": 53,
   "id": "0fc2e45f-7488-4121-beac-fd9b531b162f",
   "metadata": {},
   "outputs": [
    {
     "data": {
      "text/plain": [
       "[1, 2, 3, 4, 5, 1.234]"
      ]
     },
     "execution_count": 53,
     "metadata": {},
     "output_type": "execute_result"
    }
   ],
   "source": [
    "l1_num"
   ]
  },
  {
   "cell_type": "code",
   "execution_count": 54,
   "id": "a6597595-a8d9-4740-9c04-21d2914f882c",
   "metadata": {},
   "outputs": [
    {
     "data": {
      "text/plain": [
       "['niki', 'dev', 'abc']"
      ]
     },
     "execution_count": 54,
     "metadata": {},
     "output_type": "execute_result"
    }
   ],
   "source": [
    "l2_str"
   ]
  },
  {
   "cell_type": "code",
   "execution_count": 1,
   "id": "c135c28a-ea86-4a59-9704-0feac03d431c",
   "metadata": {},
   "outputs": [],
   "source": [
    "#example 2:\n",
    "l3=[3,4,5,\"nikki\",\"dev\",2.3456]\n",
    "l3_num=[]\n",
    "l3_str=[]\n",
    "for i in l3:\n",
    "    if type(i)== int or type(i)== float:\n",
    "        print:l3_num.append(i)\n",
    "    else:\n",
    "        print:l3_str.append(i)\n",
    "        "
   ]
  },
  {
   "cell_type": "code",
   "execution_count": 56,
   "id": "d6bc9f22-5365-4595-8b6e-51157ca049e4",
   "metadata": {},
   "outputs": [
    {
     "data": {
      "text/plain": [
       "[3, 4, 5, 2.3456]"
      ]
     },
     "execution_count": 56,
     "metadata": {},
     "output_type": "execute_result"
    }
   ],
   "source": [
    "l3_num"
   ]
  },
  {
   "cell_type": "code",
   "execution_count": 2,
   "id": "8397ca88-dc2c-42c2-96bb-08135dd1e42f",
   "metadata": {},
   "outputs": [
    {
     "data": {
      "text/plain": [
       "['nikki', 'dev']"
      ]
     },
     "execution_count": 2,
     "metadata": {},
     "output_type": "execute_result"
    }
   ],
   "source": [
    "l3_str\n"
   ]
  },
  {
   "cell_type": "code",
   "execution_count": null,
   "id": "f8a4a2fd-6f6b-4c4c-bc23-d055321d6c6e",
   "metadata": {},
   "outputs": [],
   "source": []
  }
 ],
 "metadata": {
  "kernelspec": {
   "display_name": "Python 3 (ipykernel)",
   "language": "python",
   "name": "python3"
  },
  "language_info": {
   "codemirror_mode": {
    "name": "ipython",
    "version": 3
   },
   "file_extension": ".py",
   "mimetype": "text/x-python",
   "name": "python",
   "nbconvert_exporter": "python",
   "pygments_lexer": "ipython3",
   "version": "3.10.8"
  }
 },
 "nbformat": 4,
 "nbformat_minor": 5
}
