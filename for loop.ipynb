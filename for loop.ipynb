{
 "cells": [
  {
   "cell_type": "code",
   "execution_count": 1,
   "id": "88fa56d2-9646-413a-be82-6b02c7d14af1",
   "metadata": {},
   "outputs": [
    {
     "data": {
      "text/plain": [
       "list"
      ]
     },
     "execution_count": 1,
     "metadata": {},
     "output_type": "execute_result"
    }
   ],
   "source": [
    "#using 'for loop'in the list\n",
    "l1=[11,12,30,\"nikita\",\"python\"\"data\",12.11,12.1130,\"True\"]\n",
    "type (l1)"
   ]
  },
  {
   "cell_type": "code",
   "execution_count": 12,
   "id": "ec1c0e3b-1c19-44cc-a97c-66401e94c942",
   "metadata": {},
   "outputs": [],
   "source": [
    "#creating a new list l2 to make changes \n",
    "l2_num=[]\n",
    "l2_string=[]\n",
    "for i in l1:\n",
    "    if type(i)==str:\n",
    "        print: l2_string.append(i)\n",
    "    else: \n",
    "         if type(i)== int or type== float:\n",
    "            print: l2_num.append(i)\n",
    "        "
   ]
  },
  {
   "cell_type": "code",
   "execution_count": 13,
   "id": "5087073e-1cf3-4c1b-948a-deb25a018dec",
   "metadata": {},
   "outputs": [
    {
     "data": {
      "text/plain": [
       "[11, 12, 30]"
      ]
     },
     "execution_count": 13,
     "metadata": {},
     "output_type": "execute_result"
    }
   ],
   "source": [
    "l2_num\n"
   ]
  },
  {
   "cell_type": "code",
   "execution_count": 14,
   "id": "380e99bd-79f6-4526-8a14-f92e5a3ed846",
   "metadata": {},
   "outputs": [
    {
     "data": {
      "text/plain": [
       "['nikita', 'pythondata', 'True']"
      ]
     },
     "execution_count": 14,
     "metadata": {},
     "output_type": "execute_result"
    }
   ],
   "source": [
    "l2_string\n"
   ]
  },
  {
   "cell_type": "code",
   "execution_count": 28,
   "id": "be358ab3-dfd2-4358-8806-adcb829003e1",
   "metadata": {},
   "outputs": [
    {
     "name": "stdout",
     "output_type": "stream",
     "text": [
      "nikita\n",
      "pw\n",
      "skills\n",
      "12.11\n",
      "11\n",
      "12\n",
      "14\n",
      "15\n",
      "16\n",
      "1.56\n",
      "executed after if passing above line\n"
     ]
    }
   ],
   "source": [
    "for i in l1:\n",
    "    print(i)\n",
    "else:\n",
    "    print(\"executed after if passing above line\")"
   ]
  },
  {
   "cell_type": "code",
   "execution_count": 37,
   "id": "71cc85af-7a6d-4d9c-b9aa-6554eac0cb11",
   "metadata": {},
   "outputs": [
    {
     "name": "stdout",
     "output_type": "stream",
     "text": [
      "11\n",
      "12\n",
      "30\n"
     ]
    }
   ],
   "source": [
    "#testing the 'break' command\n",
    "l1=[11,12,30,\"nikita\",\"python\"\"data\",12.11,12.1130,\"True\"]\n",
    "for i in l1:\n",
    "        if i == \"nikita\":\n",
    "            break\n",
    "        print(i)\n",
    "    "
   ]
  },
  {
   "cell_type": "code",
   "execution_count": 46,
   "id": "ba8db098-4ee9-4173-aa46-23523396c7db",
   "metadata": {},
   "outputs": [
    {
     "name": "stdout",
     "output_type": "stream",
     "text": [
      "11\n",
      "30\n",
      "15\n",
      "12\n",
      "1\n",
      "1.45\n",
      "nikita\n"
     ]
    }
   ],
   "source": [
    "#testing break command doesnt support else command\n",
    "l2=[11,30,15,12,1,1.45,'nikita','python',1.45,21]\n",
    "for i in l2:\n",
    "    if i == 'python':\n",
    "        break\n",
    "    print(i)\n",
    "else:\n",
    "    print('gonna check this wont work bcs its break code')"
   ]
  },
  {
   "cell_type": "code",
   "execution_count": 1,
   "id": "2be8c2a6-75c4-47d5-8712-75bcd61f8c1c",
   "metadata": {},
   "outputs": [],
   "source": [
    "#testing 'continue' command\n",
    "l1=['niki','dev','python',11.12,11,12.11]\n"
   ]
  },
  {
   "cell_type": "code",
   "execution_count": 2,
   "id": "955999a2-11c7-44fb-9e73-d55555092013",
   "metadata": {},
   "outputs": [
    {
     "name": "stdout",
     "output_type": "stream",
     "text": [
      "niki\n",
      "dev\n",
      "11.12\n",
      "11\n",
      "12.11\n"
     ]
    }
   ],
   "source": [
    "for i in l1:\n",
    "    if i == 'python':\n",
    "        continue\n",
    "    print(i)"
   ]
  },
  {
   "cell_type": "code",
   "execution_count": 3,
   "id": "b03ea15a-c2bb-48cc-b027-8b7519b713d1",
   "metadata": {},
   "outputs": [
    {
     "data": {
      "text/plain": [
       "list"
      ]
     },
     "execution_count": 3,
     "metadata": {},
     "output_type": "execute_result"
    }
   ],
   "source": [
    "#testing continue command with same i in two places\n",
    "l2=['niki','dev',11,11.12,'dev',14,15,'python']\n",
    "type (l2)"
   ]
  },
  {
   "cell_type": "code",
   "execution_count": 4,
   "id": "4190e4fe-fc89-4b15-ae54-6818ea79b27c",
   "metadata": {},
   "outputs": [
    {
     "name": "stdout",
     "output_type": "stream",
     "text": [
      "niki\n",
      "11\n",
      "11.12\n",
      "14\n",
      "15\n",
      "python\n"
     ]
    }
   ],
   "source": [
    "for i in l2:\n",
    "    if i == 'dev':\n",
    "        continue\n",
    "    print(i)\n",
    "    "
   ]
  },
  {
   "cell_type": "code",
   "execution_count": 1,
   "id": "a320dacf-785a-4012-bfff-bd5c371e2d0d",
   "metadata": {},
   "outputs": [
    {
     "data": {
      "text/plain": [
       "range(0, 20, 2)"
      ]
     },
     "execution_count": 1,
     "metadata": {},
     "output_type": "execute_result"
    }
   ],
   "source": [
    "#making data using range\n",
    "#this data means data from 0 to 20 with a jump of 2 after starting from 0 \n",
    "range(0,20,2)\n"
   ]
  },
  {
   "cell_type": "code",
   "execution_count": 2,
   "id": "67c1ace9-e850-4a25-bab5-ddc5575cc699",
   "metadata": {},
   "outputs": [
    {
     "data": {
      "text/plain": [
       "[0, 2, 4, 6, 8, 10, 12, 14, 16, 18]"
      ]
     },
     "execution_count": 2,
     "metadata": {},
     "output_type": "execute_result"
    }
   ],
   "source": [
    "list(range(0,20,2))"
   ]
  },
  {
   "cell_type": "code",
   "execution_count": 3,
   "id": "9047a651-343f-4d73-91c9-d4da394db998",
   "metadata": {},
   "outputs": [
    {
     "data": {
      "text/plain": [
       "[-10, -9, -8, -7, -6, -5, -4, -3, -2, -1]"
      ]
     },
     "execution_count": 3,
     "metadata": {},
     "output_type": "execute_result"
    }
   ],
   "source": [
    "#making data starting from -10 to 0\n",
    "list(range(-10,0))"
   ]
  },
  {
   "cell_type": "code",
   "execution_count": 4,
   "id": "c2397c46-42d4-4375-8502-0869106e0958",
   "metadata": {},
   "outputs": [
    {
     "data": {
      "text/plain": [
       "85"
      ]
     },
     "execution_count": 4,
     "metadata": {},
     "output_type": "execute_result"
    }
   ],
   "source": [
    "#testing sum and result command for adding\n",
    "l1=[1,2,14,14,14,15,15,4,6]\n",
    "sum(l1)"
   ]
  },
  {
   "cell_type": "code",
   "execution_count": 14,
   "id": "4018e8dd-852c-428a-9664-bcda5d61464c",
   "metadata": {},
   "outputs": [
    {
     "data": {
      "text/plain": [
       "85"
      ]
     },
     "execution_count": 14,
     "metadata": {},
     "output_type": "execute_result"
    }
   ],
   "source": [
    "#second way to add\n",
    "l1=[1,2,14,14,14,15,15,4,6]\n",
    "result = 0\n",
    "for i in l1:\n",
    "      result = result + i\n",
    "result"
   ]
  },
  {
   "cell_type": "code",
   "execution_count": 17,
   "id": "9b0428eb-5a1c-40ff-9c87-98febf91f255",
   "metadata": {},
   "outputs": [
    {
     "data": {
      "text/plain": [
       "125"
      ]
     },
     "execution_count": 17,
     "metadata": {},
     "output_type": "execute_result"
    }
   ],
   "source": [
    "#checking for loop in tuples data\n",
    "t=(1,2,4,5,6,7,89,11)\n",
    "result = 0\n",
    "for i in t:\n",
    "    result = result + i\n",
    "result\n",
    "    "
   ]
  },
  {
   "cell_type": "code",
   "execution_count": 24,
   "id": "0093b520-1d5c-4d5f-a609-da73d391eb0e",
   "metadata": {},
   "outputs": [
    {
     "name": "stdout",
     "output_type": "stream",
     "text": [
      "p\n",
      "w\n",
      "s\n",
      "k\n",
      "i\n",
      "l\n",
      "l\n",
      "s\n"
     ]
    }
   ],
   "source": [
    "s1=\"pwskills\"\n",
    "for i in s1:\n",
    "    print(i)"
   ]
  },
  {
   "cell_type": "code",
   "execution_count": null,
   "id": "ff4d08fd-c4d7-4806-9479-991fb8e07c60",
   "metadata": {},
   "outputs": [],
   "source": []
  }
 ],
 "metadata": {
  "kernelspec": {
   "display_name": "Python 3 (ipykernel)",
   "language": "python",
   "name": "python3"
  },
  "language_info": {
   "codemirror_mode": {
    "name": "ipython",
    "version": 3
   },
   "file_extension": ".py",
   "mimetype": "text/x-python",
   "name": "python",
   "nbconvert_exporter": "python",
   "pygments_lexer": "ipython3",
   "version": "3.10.8"
  }
 },
 "nbformat": 4,
 "nbformat_minor": 5
}
